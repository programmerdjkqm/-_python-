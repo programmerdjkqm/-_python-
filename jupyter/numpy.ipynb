{
 "cells": [
  {
   "cell_type": "code",
   "id": "initial_id",
   "metadata": {
    "collapsed": true,
    "ExecuteTime": {
     "end_time": "2025-01-23T06:31:49.887630Z",
     "start_time": "2025-01-23T06:31:49.760480Z"
    }
   },
   "source": [
    "import numpy as np\n",
    "\n",
    "# 创建一个4x6的数组并转化为float类型\n",
    "t = np.arange(24).reshape(4, 6).astype('float')\n",
    "\n",
    "# 将数组中的一部分替换为 NaN\n",
    "t[1, 3:] = np.nan\n",
    "print(\"原始数组:\")\n",
    "print(t)\n",
    "print('-------------------')\n",
    "\n",
    "# 遍历每一列，然后判断每一列是否有 NaN\n",
    "for i in range(t.shape[1]):\n",
    "    # 获取当前列数据\n",
    "    temp_col = t[:, i]\n",
    "    \n",
    "    # 判断当前列的数据中是否含有 NaN\n",
    "    nan_num = np.count_nonzero(temp_col != temp_col)\n",
    "    \n",
    "    # 条件成立说明含有 NaN\n",
    "    if nan_num != 0:\n",
    "        # 将这一列不为 NaN 的数据拿出来\n",
    "        temp_col_not_nan = temp_col[temp_col == temp_col]\n",
    "        \n",
    "        # 将 NaN 替换成这一列的平均值\n",
    "        t[:, i] = np.where(np.isnan(temp_col), np.mean(temp_col_not_nan), temp_col)\n",
    "\n",
    "print(\"替换后的数组:\")\n",
    "print(t)\n"
   ],
   "outputs": [
    {
     "name": "stdout",
     "output_type": "stream",
     "text": [
      "原始数组:\n",
      "[[ 0.  1.  2.  3.  4.  5.]\n",
      " [ 6.  7.  8. nan nan nan]\n",
      " [12. 13. 14. 15. 16. 17.]\n",
      " [18. 19. 20. 21. 22. 23.]]\n",
      "-------------------\n",
      "替换后的数组:\n",
      "[[ 0.  1.  2.  3.  4.  5.]\n",
      " [ 6.  7.  8. 13. 14. 15.]\n",
      " [12. 13. 14. 15. 16. 17.]\n",
      " [18. 19. 20. 21. 22. 23.]]\n"
     ]
    }
   ],
   "execution_count": 1
  },
  {
   "metadata": {
    "ExecuteTime": {
     "end_time": "2025-01-23T06:36:59.158582Z",
     "start_time": "2025-01-23T06:36:59.154739Z"
    }
   },
   "cell_type": "code",
   "source": [
    "import numpy as np\n",
    "\n",
    "a = np.array([1, 2, 3])\n",
    "b = a[[True, True, False]]\n",
    "print(b)\n"
   ],
   "id": "2fb712cea4bedbac",
   "outputs": [
    {
     "name": "stdout",
     "output_type": "stream",
     "text": [
      "[1 2]\n"
     ]
    }
   ],
   "execution_count": 7
  }
 ],
 "metadata": {
  "kernelspec": {
   "display_name": "Python 3",
   "language": "python",
   "name": "python3"
  },
  "language_info": {
   "codemirror_mode": {
    "name": "ipython",
    "version": 2
   },
   "file_extension": ".py",
   "mimetype": "text/x-python",
   "name": "python",
   "nbconvert_exporter": "python",
   "pygments_lexer": "ipython2",
   "version": "2.7.6"
  }
 },
 "nbformat": 4,
 "nbformat_minor": 5
}

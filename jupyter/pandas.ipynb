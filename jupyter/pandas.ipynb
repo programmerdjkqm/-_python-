{
 "cells": [
  {
   "cell_type": "code",
   "execution_count": null,
   "id": "initial_id",
   "metadata": {
    "collapsed": true
   },
   "outputs": [],
   "source": [
    ""
   ]
  },
  {
   "metadata": {
    "ExecuteTime": {
     "end_time": "2025-01-23T09:45:50.500795Z",
     "start_time": "2025-01-23T09:45:50.493722Z"
    }
   },
   "cell_type": "code",
   "source": [
    "import pandas as pd\n",
    "# 通过 list 构建 Series\n",
    "ser_obj = pd.Series(range(10, 20))\n",
    "# print(ser_obj.head(3))\n",
    "print(ser_obj)\n",
    "# print(type(ser_obj))"
   ],
   "id": "53b705eb87403a82",
   "outputs": [
    {
     "name": "stdout",
     "output_type": "stream",
     "text": [
      "0    10\n",
      "1    11\n",
      "2    12\n",
      "3    13\n",
      "4    14\n",
      "5    15\n",
      "6    16\n",
      "7    17\n",
      "8    18\n",
      "9    19\n",
      "dtype: int64\n"
     ]
    }
   ],
   "execution_count": 2
  },
  {
   "metadata": {
    "ExecuteTime": {
     "end_time": "2025-01-23T09:47:38.074360Z",
     "start_time": "2025-01-23T09:47:38.058227Z"
    }
   },
   "cell_type": "code",
   "source": [
    "# 获取数据\n",
    "print(ser_obj.values)\n",
    "# 获取索引\n",
    "print(ser_obj.index)"
   ],
   "id": "4f9df6c363b5acad",
   "outputs": [
    {
     "name": "stdout",
     "output_type": "stream",
     "text": [
      "[10 11 12 13 14 15 16 17 18 19]\n",
      "RangeIndex(start=0, stop=10, step=1)\n"
     ]
    }
   ],
   "execution_count": 5
  },
  {
   "metadata": {
    "ExecuteTime": {
     "end_time": "2025-01-23T09:48:23.036112Z",
     "start_time": "2025-01-23T09:48:23.013372Z"
    }
   },
   "cell_type": "code",
   "source": [
    "print(ser_obj * 2)\n",
    "print(ser_obj > 15)"
   ],
   "id": "17f2a3b5d4ce7363",
   "outputs": [
    {
     "name": "stdout",
     "output_type": "stream",
     "text": [
      "0    20\n",
      "1    22\n",
      "2    24\n",
      "3    26\n",
      "4    28\n",
      "5    30\n",
      "6    32\n",
      "7    34\n",
      "8    36\n",
      "9    38\n",
      "dtype: int64\n",
      "0    False\n",
      "1    False\n",
      "2    False\n",
      "3    False\n",
      "4    False\n",
      "5    False\n",
      "6     True\n",
      "7     True\n",
      "8     True\n",
      "9     True\n",
      "dtype: bool\n"
     ]
    }
   ],
   "execution_count": 6
  },
  {
   "metadata": {
    "ExecuteTime": {
     "end_time": "2025-01-23T09:50:23.437544Z",
     "start_time": "2025-01-23T09:50:23.430774Z"
    }
   },
   "cell_type": "code",
   "source": [
    "year_data = {2001: 17.8, 2002: 20.1, 2003: 16.5}\n",
    "ser_obj2 = pd.Series(year_data)\n",
    "print(ser_obj2)\n",
    "print(ser_obj2.index)\n",
    "print(ser_obj2[2001])"
   ],
   "id": "709b138290e4ae66",
   "outputs": [
    {
     "name": "stdout",
     "output_type": "stream",
     "text": [
      "2001    17.8\n",
      "2002    20.1\n",
      "2003    16.5\n",
      "dtype: float64\n",
      "Index([2001, 2002, 2003], dtype='int64')\n",
      "17.8\n"
     ]
    }
   ],
   "execution_count": 9
  },
  {
   "metadata": {
    "ExecuteTime": {
     "end_time": "2025-01-23T09:53:44.167803Z",
     "start_time": "2025-01-23T09:53:44.157225Z"
    }
   },
   "cell_type": "code",
   "source": [
    "import numpy as np\n",
    "import pandas as pd\n",
    "# 通过 ndarray 构建 DataFrame\n",
    "t = pd.DataFrame(np.arange(12).reshape((3,4)))\n",
    "print(t)\n",
    "array = np.random.randn(5,4)\n",
    "print(array)\n",
    "df_obj = pd.DataFrame(array)\n",
    "print(df_obj.head())"
   ],
   "id": "79b8182127b54058",
   "outputs": [
    {
     "name": "stdout",
     "output_type": "stream",
     "text": [
      "   0  1   2   3\n",
      "0  0  1   2   3\n",
      "1  4  5   6   7\n",
      "2  8  9  10  11\n",
      "[[ 0.8030662   1.22077248  1.51287646 -0.21465482]\n",
      " [-0.82713471  1.35483708 -0.19823989  0.91070076]\n",
      " [ 0.264252   -0.58848085 -1.63562425 -0.18975253]\n",
      " [ 0.36477397 -1.47758211 -1.54430568 -1.18906409]\n",
      " [ 0.952901    1.3589144  -0.03171172 -1.47112588]]\n",
      "          0         1         2         3\n",
      "0  0.803066  1.220772  1.512876 -0.214655\n",
      "1 -0.827135  1.354837 -0.198240  0.910701\n",
      "2  0.264252 -0.588481 -1.635624 -0.189753\n",
      "3  0.364774 -1.477582 -1.544306 -1.189064\n",
      "4  0.952901  1.358914 -0.031712 -1.471126\n"
     ]
    }
   ],
   "execution_count": 10
  },
  {
   "metadata": {
    "ExecuteTime": {
     "end_time": "2025-01-23T09:55:09.348378Z",
     "start_time": "2025-01-23T09:55:09.336807Z"
    }
   },
   "cell_type": "code",
   "source": [
    "dict_data = {'A': 1,\n",
    "'B': pd.Timestamp('20190926'),\n",
    "'C': pd.Series(1,index=list(range(4)),dtype='float32'),\n",
    "'D': np.array([3] * 4,dtype='int32'),\n",
    "'E': [\"Python\",\"Java\",\"C++\",\"C\"],\n",
    "'F': 'wangdao' }\n",
    "#print dict_data\n",
    "df_obj2 = pd.DataFrame(dict_data)\n",
    "print(df_obj2)\n",
    "d1={\"name\":[\"xiaoming\",\"xiaogang\"],\"age\":[20,32],\"tel\":\n",
    "[10086,10010]}\n",
    "print(pd.DataFrame(d1))\n",
    "d2 =[{\"name\" : \"xiaohong\" ,\"age\" :32,\"tel\" :10010},{ \"name\":\n",
    "\"xiaogang\" ,\"tel\": 10000} ,{\"name\":\"xiaowang\" ,\"age\":22}]\n",
    "print(pd.DataFrame(d2))"
   ],
   "id": "a98a3a3cdf5ca30",
   "outputs": [
    {
     "name": "stdout",
     "output_type": "stream",
     "text": [
      "   A          B    C  D       E        F\n",
      "0  1 2019-09-26  1.0  3  Python  wangdao\n",
      "1  1 2019-09-26  1.0  3    Java  wangdao\n",
      "2  1 2019-09-26  1.0  3     C++  wangdao\n",
      "3  1 2019-09-26  1.0  3       C  wangdao\n",
      "       name  age    tel\n",
      "0  xiaoming   20  10086\n",
      "1  xiaogang   32  10010\n",
      "       name   age      tel\n",
      "0  xiaohong  32.0  10010.0\n",
      "1  xiaogang   NaN  10000.0\n",
      "2  xiaowang  22.0      NaN\n"
     ]
    }
   ],
   "execution_count": 11
  }
 ],
 "metadata": {
  "kernelspec": {
   "display_name": "Python 3",
   "language": "python",
   "name": "python3"
  },
  "language_info": {
   "codemirror_mode": {
    "name": "ipython",
    "version": 2
   },
   "file_extension": ".py",
   "mimetype": "text/x-python",
   "name": "python",
   "nbconvert_exporter": "python",
   "pygments_lexer": "ipython2",
   "version": "2.7.6"
  }
 },
 "nbformat": 4,
 "nbformat_minor": 5
}
